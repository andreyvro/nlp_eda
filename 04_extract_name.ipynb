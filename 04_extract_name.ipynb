{
 "cells": [
  {
   "attachments": {},
   "cell_type": "markdown",
   "metadata": {},
   "source": [
    "## Question Answering"
   ]
  },
  {
   "cell_type": "code",
   "execution_count": 6,
   "metadata": {},
   "outputs": [],
   "source": [
    "import pandas as pd\n",
    "from transformers import pipeline"
   ]
  },
  {
   "cell_type": "code",
   "execution_count": 14,
   "metadata": {},
   "outputs": [
    {
     "data": {
      "text/plain": [
       "(3452, 6)"
      ]
     },
     "execution_count": 14,
     "metadata": {},
     "output_type": "execute_result"
    }
   ],
   "source": [
    "df = pd.read_parquet('dados/id_desc_clr.parquet')\n",
    "df.shape"
   ]
  },
  {
   "cell_type": "code",
   "execution_count": 15,
   "metadata": {},
   "outputs": [
    {
     "name": "stdout",
     "output_type": "stream",
     "text": [
      "<class 'pandas.core.frame.DataFrame'>\n",
      "Int64Index: 3452 entries, 0 to 3615\n",
      "Data columns (total 6 columns):\n",
      " #   Column            Non-Null Count  Dtype \n",
      "---  ------            --------------  ----- \n",
      " 0   id                3452 non-null   object\n",
      " 1   desc              3452 non-null   object\n",
      " 2   desc_sent         3452 non-null   object\n",
      " 3   desc_token_clr    3452 non-null   object\n",
      " 4   desc_bigram_clr   3452 non-null   object\n",
      " 5   desc_trigram_clr  3452 non-null   object\n",
      "dtypes: object(6)\n",
      "memory usage: 188.8+ KB\n"
     ]
    }
   ],
   "source": [
    "df.info()"
   ]
  },
  {
   "attachments": {},
   "cell_type": "markdown",
   "metadata": {},
   "source": [
    "### Extração do nome das empresas"
   ]
  },
  {
   "cell_type": "code",
   "execution_count": 3,
   "metadata": {},
   "outputs": [],
   "source": [
    "qa_model = pipeline('question-answering', model='bert-large-uncased-whole-word-masking-finetuned-squad')"
   ]
  },
  {
   "cell_type": "code",
   "execution_count": 4,
   "metadata": {},
   "outputs": [],
   "source": [
    "def get_company_name(desc):\n",
    "    question = 'What is the name of the company mentioned in this text?'\n",
    "    answer = qa_model(question=question, context=desc)\n",
    "    return answer['answer']"
   ]
  },
  {
   "cell_type": "code",
   "execution_count": 17,
   "metadata": {},
   "outputs": [
    {
     "name": "stdout",
     "output_type": "stream",
     "text": [
      "Descrição: Vectra is a cybersecurity platform that uses AI to detect and automatically stop attackers in real-time while collecting data to perform conclusive incident investigations. It specializes in cloud and network detection and response (NDR) – from cloud and data center workloads to accounts, user, and IoT devices. The company offers four applicationson the Cognito platform to address high-priority use cases. Cognito Detect for Office365 and Azure AD finds and stops attacks in enterprise SaaS applications and the Microsoft 365 ecosystem. Cognito Stream sends security-enriched metadata in zeek format to data lakes and SIEMs. Cognito Recall is a cloud-based application to store and investigate threats in enriched metadata. And Cognito Detect uses AI to reveal and prioritize hidden and unknown attackers at speed. Vectra was founded in 2011 and is based in San Jose, California.Read More\n",
      "Nome da empresa: Vectra\n"
     ]
    }
   ],
   "source": [
    "# Teste\n",
    "desc = df['desc'].iloc[0]\n",
    "print('Descrição:', desc)\n",
    "print('Nome da empresa:', get_company_name(desc))"
   ]
  },
  {
   "cell_type": "code",
   "execution_count": 19,
   "metadata": {},
   "outputs": [],
   "source": [
    "df2 = df[['desc']].head(10)\n",
    "df2['company_name'] = df2['desc'].apply(get_company_name)"
   ]
  },
  {
   "cell_type": "code",
   "execution_count": 20,
   "metadata": {},
   "outputs": [
    {
     "data": {
      "text/html": [
       "<div>\n",
       "<style scoped>\n",
       "    .dataframe tbody tr th:only-of-type {\n",
       "        vertical-align: middle;\n",
       "    }\n",
       "\n",
       "    .dataframe tbody tr th {\n",
       "        vertical-align: top;\n",
       "    }\n",
       "\n",
       "    .dataframe thead th {\n",
       "        text-align: right;\n",
       "    }\n",
       "</style>\n",
       "<table border=\"1\" class=\"dataframe\">\n",
       "  <thead>\n",
       "    <tr style=\"text-align: right;\">\n",
       "      <th></th>\n",
       "      <th>desc</th>\n",
       "      <th>company_name</th>\n",
       "    </tr>\n",
       "  </thead>\n",
       "  <tbody>\n",
       "    <tr>\n",
       "      <th>0</th>\n",
       "      <td>Vectra is a cybersecurity platform that uses A...</td>\n",
       "      <td>Vectra</td>\n",
       "    </tr>\n",
       "    <tr>\n",
       "      <th>1</th>\n",
       "      <td>Roadzen is a global leader in the P&amp;C insuranc...</td>\n",
       "      <td>Roadzen</td>\n",
       "    </tr>\n",
       "    <tr>\n",
       "      <th>2</th>\n",
       "      <td>Restream is a multi-streaming solution that al...</td>\n",
       "      <td>Restream</td>\n",
       "    </tr>\n",
       "    <tr>\n",
       "      <th>3</th>\n",
       "      <td>DLP works for 1% of companies; fortunately the...</td>\n",
       "      <td>Cyberhaven</td>\n",
       "    </tr>\n",
       "    <tr>\n",
       "      <th>4</th>\n",
       "      <td>Shift Technology delivers AI-native decision a...</td>\n",
       "      <td>Shift Technology</td>\n",
       "    </tr>\n",
       "    <tr>\n",
       "      <th>5</th>\n",
       "      <td>Clutch is a Toronto-based technology company t...</td>\n",
       "      <td>Clutch</td>\n",
       "    </tr>\n",
       "    <tr>\n",
       "      <th>6</th>\n",
       "      <td>FoodLogiQ specializes in supplier management, ...</td>\n",
       "      <td>FoodLogiQ</td>\n",
       "    </tr>\n",
       "    <tr>\n",
       "      <th>7</th>\n",
       "      <td>3DFortify is an advanced manufacturing startup...</td>\n",
       "      <td>3DFortify</td>\n",
       "    </tr>\n",
       "    <tr>\n",
       "      <th>8</th>\n",
       "      <td>gradient A.I., we’re tackling some of the most...</td>\n",
       "      <td>gradient A.I.</td>\n",
       "    </tr>\n",
       "    <tr>\n",
       "      <th>9</th>\n",
       "      <td>WebPT  is a rehab therapy platform designed fo...</td>\n",
       "      <td>WebPT</td>\n",
       "    </tr>\n",
       "  </tbody>\n",
       "</table>\n",
       "</div>"
      ],
      "text/plain": [
       "                                                desc      company_name\n",
       "0  Vectra is a cybersecurity platform that uses A...            Vectra\n",
       "1  Roadzen is a global leader in the P&C insuranc...           Roadzen\n",
       "2  Restream is a multi-streaming solution that al...          Restream\n",
       "3  DLP works for 1% of companies; fortunately the...        Cyberhaven\n",
       "4  Shift Technology delivers AI-native decision a...  Shift Technology\n",
       "5  Clutch is a Toronto-based technology company t...            Clutch\n",
       "6  FoodLogiQ specializes in supplier management, ...         FoodLogiQ\n",
       "7  3DFortify is an advanced manufacturing startup...         3DFortify\n",
       "8  gradient A.I., we’re tackling some of the most...     gradient A.I.\n",
       "9  WebPT  is a rehab therapy platform designed fo...             WebPT"
      ]
     },
     "execution_count": 20,
     "metadata": {},
     "output_type": "execute_result"
    }
   ],
   "source": [
    "df2"
   ]
  },
  {
   "cell_type": "code",
   "execution_count": null,
   "metadata": {},
   "outputs": [],
   "source": []
  }
 ],
 "metadata": {
  "kernelspec": {
   "display_name": "Python 3",
   "language": "python",
   "name": "python3"
  },
  "language_info": {
   "codemirror_mode": {
    "name": "ipython",
    "version": 3
   },
   "file_extension": ".py",
   "mimetype": "text/x-python",
   "name": "python",
   "nbconvert_exporter": "python",
   "pygments_lexer": "ipython3",
   "version": "3.10.6"
  },
  "orig_nbformat": 4
 },
 "nbformat": 4,
 "nbformat_minor": 2
}
